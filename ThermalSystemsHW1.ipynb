{
  "nbformat": 4,
  "nbformat_minor": 0,
  "metadata": {
    "colab": {
      "name": "ThermalSystemsHW1",
      "provenance": [],
      "collapsed_sections": [],
      "authorship_tag": "ABX9TyPIUFqAOYfaUmW7/M3STwxS",
      "include_colab_link": true
    },
    "kernelspec": {
      "name": "python3",
      "display_name": "Python 3"
    },
    "language_info": {
      "name": "python"
    }
  },
  "cells": [
    {
      "cell_type": "markdown",
      "metadata": {
        "id": "view-in-github",
        "colab_type": "text"
      },
      "source": [
        "<a href=\"https://colab.research.google.com/github/thathayhaykid/planets/blob/master/ThermalSystemsHW1.ipynb\" target=\"_parent\"><img src=\"https://colab.research.google.com/assets/colab-badge.svg\" alt=\"Open In Colab\"/></a>"
      ]
    },
    {
      "cell_type": "code",
      "metadata": {
        "id": "C3KK1wBJGTZ2"
      },
      "source": [
        "# Thermal Systems Design HW 1\n",
        "# By Haythem Mansour"
      ],
      "execution_count": null,
      "outputs": []
    },
    {
      "cell_type": "code",
      "metadata": {
        "id": "nuHuebKLGbhV"
      },
      "source": [
        "#Import libraries\n",
        "import numpy as np"
      ],
      "execution_count": null,
      "outputs": []
    },
    {
      "cell_type": "code",
      "metadata": {
        "id": "dciM0dC4HUwP"
      },
      "source": [
        "#Start making functions to use throughout homework here!\n",
        "def convCtoK(celsius):\n",
        "  kelvin = celsius + 273.15\n",
        "  return kelvin\n",
        "\n",
        "def convKtoC(kelvin):\n",
        "  celsius = kelvin - 273.15\n",
        "  return celsius"
      ],
      "execution_count": null,
      "outputs": []
    },
    {
      "cell_type": "code",
      "metadata": {
        "id": "hIzDVb_CGgaa"
      },
      "source": [
        "# PROBLEM 1\n",
        "# Define Givens\n",
        "T1 = float(-50) #C\n",
        "T3 = float(20) #C\n",
        "T4 = float(-50) #C\n",
        "T5 = float(20) #C\n",
        "\n",
        "P1 = 26.5 #kPa\n",
        "P2 = 85.0 #kPa\n",
        "P3 = 85.0 #kPa\n",
        "\n",
        "mdotair = 0.8 #kg/s"
      ],
      "execution_count": null,
      "outputs": []
    },
    {
      "cell_type": "code",
      "metadata": {
        "colab": {
          "base_uri": "https://localhost:8080/"
        },
        "id": "sHEGc1NsH772",
        "outputId": "6c9811d1-723c-47c0-c64b-d0e90f51f4d2"
      },
      "source": [
        "#Convert to Kelvin\n",
        "T1 = convCtoK(T1)\n",
        "T3 = convCtoK(T3)\n",
        "T4 = convCtoK(T4)\n",
        "T5 = convCtoK(T5)\n",
        "print('T1:', T1, 'T3:', T3, 'T4:', T4, 'T5', T5)"
      ],
      "execution_count": null,
      "outputs": [
        {
          "output_type": "stream",
          "text": [
            "T1: 223.14999999999998 T3: 293.15 T4: 223.14999999999998 T5 293.15\n"
          ],
          "name": "stdout"
        }
      ]
    },
    {
      "cell_type": "code",
      "metadata": {
        "colab": {
          "base_uri": "https://localhost:8080/"
        },
        "id": "wKBHD88UIFY2",
        "outputId": "6cf17244-c38c-4f14-d03a-85c4b1cc5224"
      },
      "source": [
        "# Solve for T2 isentropic\n",
        "k = 1.4\n",
        "Cpair = 1.005\n",
        "\n",
        "T2s = P2 / P1\n",
        "T2s = T2s**((k-1)/k)\n",
        "T2s = T2s * T1\n",
        "print('T2s:', T2s)"
      ],
      "execution_count": null,
      "outputs": [
        {
          "output_type": "stream",
          "text": [
            "T2s: 311.32769992318765\n"
          ],
          "name": "stdout"
        }
      ]
    },
    {
      "cell_type": "code",
      "metadata": {
        "colab": {
          "base_uri": "https://localhost:8080/"
        },
        "id": "VSWJCGLSLIes",
        "outputId": "c64b9f84-4376-4ce3-885e-bda8863bfcf6"
      },
      "source": [
        "# Solve for specific work of the isentropic process, then solve for the actual work\n",
        "Ws = Cpair * (T2s - T1)\n",
        "print('Ws:', Ws)\n",
        "\n",
        "effcomp = 0.75\n",
        "Wa = Ws / effcomp\n",
        "print('Wa:', Wa)"
      ],
      "execution_count": null,
      "outputs": [
        {
          "output_type": "stream",
          "text": [
            "Ws: 88.6185884228036\n",
            "Wa: 118.15811789707146\n"
          ],
          "name": "stdout"
        }
      ]
    },
    {
      "cell_type": "code",
      "metadata": {
        "colab": {
          "base_uri": "https://localhost:8080/"
        },
        "id": "M2C9y_veMLkp",
        "outputId": "c1f6c6e2-3eef-4b77-e701-799fcafb77f1"
      },
      "source": [
        "# Solve for the actual temperature of T2 & Power input of compressor\n",
        "T2 = T1 + (Wa / Cpair)\n",
        "print('BIG ANSWER : T2 :', T2, convKtoC(T2))\n",
        "\n",
        "Wdotcomp = mdotair * Wa\n",
        "print('BIG ANSWER : Wdotcomp :', Wdotcomp)"
      ],
      "execution_count": null,
      "outputs": [
        {
          "output_type": "stream",
          "text": [
            "BIG ANSWER : T2 : 340.7202665642502 67.57026656425023\n",
            "BIG ANSWER : Wdotcomp : 94.52649431765718\n"
          ],
          "name": "stdout"
        }
      ]
    },
    {
      "cell_type": "code",
      "metadata": {
        "colab": {
          "base_uri": "https://localhost:8080/"
        },
        "id": "8poj5xyhNUqf",
        "outputId": "765bf3c4-9282-4be7-9a62-3b017e23be09"
      },
      "source": [
        "# Take a look at the heat exchanger\n",
        "# Solve for Qdot of the process 2 - 3\n",
        "Qdot = mdotair * Cpair * (T2 - T3)\n",
        "print('Qdot:', Qdot)"
      ],
      "execution_count": null,
      "outputs": [
        {
          "output_type": "stream",
          "text": [
            "Qdot: 38.24649431765718\n"
          ],
          "name": "stdout"
        }
      ]
    },
    {
      "cell_type": "code",
      "metadata": {
        "colab": {
          "base_uri": "https://localhost:8080/"
        },
        "id": "sasBXXHNzl6o",
        "outputId": "e98cb883-4d2c-4ad0-883a-43a5d1a3d71f"
      },
      "source": [
        "# Solve for Mdotair45\n",
        "Mdotair = (Qdot) / (1.005 * (293.15 - 223.15))\n",
        "print('Mdotair for process 4-5:', Mdotair)"
      ],
      "execution_count": null,
      "outputs": [
        {
          "output_type": "stream",
          "text": [
            "Mdotair for process 4-5: 0.5436601893057171\n"
          ],
          "name": "stdout"
        }
      ]
    },
    {
      "cell_type": "code",
      "metadata": {
        "id": "T6peBOY080e7"
      },
      "source": [
        ""
      ],
      "execution_count": null,
      "outputs": []
    }
  ]
}